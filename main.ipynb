{
 "cells": [
  {
   "cell_type": "code",
   "execution_count": 1,
   "metadata": {},
   "outputs": [],
   "source": [
    "%matplotlib widget\n",
    "# import matplotlib\n",
    "# matplotlib.use(\"TkAgg\")\n",
    "import tqdm\n",
    "import glob\n",
    "from PIL import Image\n",
    "import numpy as np\n",
    "import itertools\n",
    "import matplotlib.pyplot as plt\n",
    "# noinspection PyUnresolvedReferences\n",
    "import japanize_matplotlib\n",
    "import time\n",
    "# noinspection PyPackageRequirements\n",
    "import umap\n",
    "import warnings\n",
    "warnings.filterwarnings('ignore')"
   ]
  },
  {
   "cell_type": "code",
   "execution_count": 2,
   "metadata": {
    "collapsed": false,
    "jupyter": {
     "outputs_hidden": false
    },
    "pycharm": {
     "name": "#%%\n"
    }
   },
   "outputs": [],
   "source": [
    "class UmapClass:\n",
    "    dir_labels = None   # サブフォルダ分類\n",
    "    png_labels = None   # 画像ラベル\n",
    "    png_datum = None    # 画像データ配列\n",
    "    result3d = None     # UMAP配列\n",
    "\n",
    "    def __init__(self, labels):\n",
    "        self.dir_labels = labels\n",
    "        return\n",
    "\n",
    "    def load(self, path):\n",
    "        self.png_labels = np.empty(0)\n",
    "        self.png_datum = np.empty((0,701,701))\n",
    "        for label in self.dir_labels:\n",
    "            data = self._load_png(f'{path}/{label}/*.png')\n",
    "            self.png_datum = np.concatenate((self.png_datum, data))\n",
    "            self.png_labels = np.concatenate((self.png_labels, np.full(data.shape[0], label)))\n",
    "        return\n",
    "\n",
    "    @staticmethod\n",
    "    def _load_png(path):\n",
    "        \"\"\"\n",
    "        指定されたフォルダ内のグレースケールpngファイルを読み込む\n",
    "        :param path: glob文字列\n",
    "        \"\"\"\n",
    "        files = glob.glob(path)\n",
    "        file_sample = Image.open(files[0]).convert('L')\n",
    "        result_array = np.empty((len(files), file_sample.width, file_sample.height))\n",
    "        count = 0\n",
    "        pbar = tqdm.tqdm(files)\n",
    "        pbar.set_description(path)\n",
    "        for file in pbar:\n",
    "            result_array[count] = np.array(Image.open(file).convert('L')).astype('float32') / 255\n",
    "            count += 1\n",
    "        return result_array\n",
    "\n",
    "    def show_sample(self):\n",
    "        \"\"\"\n",
    "        複数のpngデータのプレビュー\n",
    "        \"\"\"\n",
    "        images = {label:self.png_datum[self.png_labels == label][0] for label in self.dir_labels}\n",
    "        num = len(images)\n",
    "        fig = plt.figure(figsize=(3 * num, 3))\n",
    "        count = 1\n",
    "        for title, image in images.items():\n",
    "            axis = fig.add_subplot(1, num, count)\n",
    "            plt.title(title)\n",
    "            axis.imshow(image, cmap='gray', vmin=0, vmax=1)\n",
    "            count += 1\n",
    "        plt.show(block=False)\n",
    "        return\n",
    "\n",
    "    def fit(self):\n",
    "        \"\"\"\n",
    "        UMAP学習\n",
    "        :return: 経過秒数\n",
    "        \"\"\"\n",
    "        t1 = time.time()\n",
    "        self.result3d = umap.UMAP(n_neighbors=5, n_components=3).fit(\n",
    "            np.reshape(self.png_datum, (self.png_datum.shape[0], -1))\n",
    "        )\n",
    "        return time.time() - t1\n",
    "\n",
    "    def show_result(self):\n",
    "        \"\"\"\n",
    "        UMAP結果を3D散布図で表示する\n",
    "        \"\"\"\n",
    "        x = self.result3d.embedding_[:, 0]\n",
    "        y = self.result3d.embedding_[:, 1]\n",
    "        z = self.result3d.embedding_[:, 2]\n",
    "        color_cycle= itertools.cycle([\"red\",\"green\",\"blue\",\"orange\",\"grey\",\"brown\",\"pink\",\"yellow\"])\n",
    "        fig = plt.figure(figsize=(9, 9))\n",
    "        ax = fig.add_subplot(111, projection='3d')\n",
    "        for label in np.unique(self.png_labels):\n",
    "            ax.scatter(\n",
    "                x[self.png_labels == label],\n",
    "                y[self.png_labels == label],\n",
    "                z[self.png_labels == label],\n",
    "                c=next(color_cycle), label=label\n",
    "            )\n",
    "        ax.legend(loc='upper left')\n",
    "        plt.show(block=False)"
   ]
  },
  {
   "cell_type": "code",
   "execution_count": 3,
   "metadata": {
    "collapsed": false,
    "jupyter": {
     "outputs_hidden": false
    },
    "pycharm": {
     "name": "#%%\n"
    }
   },
   "outputs": [
    {
     "name": "stderr",
     "output_type": "stream",
     "text": [
      "data/2021_02_21 US 4クラス/MP掌側/*.png: 100%|##########| 300/300 [00:04<00:00, 63.39it/s]\n",
      "data/2021_02_21 US 4クラス/MP背側/*.png: 100%|##########| 300/300 [00:03<00:00, 77.92it/s]\n",
      "data/2021_02_21 US 4クラス/手関節背側/*.png: 100%|##########| 300/300 [00:04<00:00, 66.24it/s]\n"
     ]
    }
   ],
   "source": [
    "umap_class = UmapClass(['MP掌側', 'MP背側', '手関節背側'])\n",
    "umap_class.load('data/2021_02_21 US 4クラス')"
   ]
  },
  {
   "cell_type": "code",
   "execution_count": 4,
   "metadata": {
    "collapsed": false,
    "jupyter": {
     "outputs_hidden": false
    },
    "pycharm": {
     "name": "#%%\n"
    }
   },
   "outputs": [
    {
     "data": {
      "application/vnd.jupyter.widget-view+json": {
       "model_id": "72f40659af87461796669094870a8bb8",
       "version_major": 2,
       "version_minor": 0
      },
      "text/plain": [
       "Canvas(toolbar=Toolbar(toolitems=[('Home', 'Reset original view', 'home', 'home'), ('Back', 'Back to previous …"
      ]
     },
     "metadata": {},
     "output_type": "display_data"
    }
   ],
   "source": [
    "umap_class.show_sample()"
   ]
  },
  {
   "cell_type": "code",
   "execution_count": 5,
   "metadata": {
    "pycharm": {
     "name": "#%%\n"
    }
   },
   "outputs": [
    {
     "name": "stdout",
     "output_type": "stream",
     "text": [
      "経過時間:176.11667799949646\n"
     ]
    }
   ],
   "source": [
    "elaps = umap_class.fit()\n",
    "print(f\"経過時間:{elaps}\")"
   ]
  },
  {
   "cell_type": "code",
   "execution_count": 6,
   "metadata": {
    "pycharm": {
     "name": "#%%\n"
    }
   },
   "outputs": [
    {
     "data": {
      "application/vnd.jupyter.widget-view+json": {
       "model_id": "f2e7bf224c714ad49ead2c93da80568c",
       "version_major": 2,
       "version_minor": 0
      },
      "text/plain": [
       "Canvas(toolbar=Toolbar(toolitems=[('Home', 'Reset original view', 'home', 'home'), ('Back', 'Back to previous …"
      ]
     },
     "metadata": {},
     "output_type": "display_data"
    }
   ],
   "source": [
    "umap_class.show_result()"
   ]
  },
  {
   "cell_type": "code",
   "execution_count": null,
   "metadata": {
    "pycharm": {
     "name": "#%%"
    }
   },
   "outputs": [],
   "source": []
  }
 ],
 "metadata": {
  "kernelspec": {
   "display_name": "Python 3.8 (XPython)",
   "language": "python",
   "name": "xpython"
  },
  "language_info": {
   "file_extension": ".py",
   "mimetype": "text/x-python",
   "name": "python",
   "version": "3.8.5"
  }
 },
 "nbformat": 4,
 "nbformat_minor": 4
}
