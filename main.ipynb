{
 "cells": [
  {
   "cell_type": "code",
   "execution_count": 1,
   "metadata": {},
   "outputs": [],
   "source": [
    "import matplotlib\n",
    "matplotlib.use(\"TkAgg\")\n",
    "import tqdm\n",
    "import glob\n",
    "from PIL import Image\n",
    "import numpy as np\n",
    "import matplotlib.pyplot as plt\n",
    "import time\n",
    "import umap\n",
    "import warnings\n",
    "warnings.filterwarnings('ignore')"
   ]
  },
  {
   "cell_type": "code",
   "execution_count": 2,
   "metadata": {
    "pycharm": {
     "name": "#%%\n"
    }
   },
   "outputs": [],
   "source": [
    "def load_png(png_files):\n",
    "    print(f'=== load {png_files} ===')\n",
    "    files = glob.glob(png_files)\n",
    "    file_sample = Image.open(files[0]).convert('L')\n",
    "    png_array = np.empty((len(files), file_sample.width, file_sample.height))\n",
    "    count = 0\n",
    "    for file in tqdm.tqdm(files):\n",
    "        png_array[count] = np.array(Image.open(file).convert('L')).astype('float32') / 255\n",
    "        count += 1\n",
    "    return png_array"
   ]
  },
  {
   "cell_type": "code",
   "execution_count": 3,
   "metadata": {
    "pycharm": {
     "name": "#%%\n"
    }
   },
   "outputs": [
    {
     "name": "stderr",
     "output_type": "stream",
     "text": [
      "  2%|▏         | 7/300 [00:00<00:04, 61.14it/s]"
     ]
    },
    {
     "name": "stdout",
     "output_type": "stream",
     "text": [
      "=== load data/2021_02_21 US 4クラス/MP掌側/*.png ===\n"
     ]
    },
    {
     "name": "stderr",
     "output_type": "stream",
     "text": [
      "100%|██████████| 300/300 [00:04<00:00, 67.31it/s]\n",
      "  3%|▎         | 9/300 [00:00<00:03, 85.28it/s]"
     ]
    },
    {
     "name": "stdout",
     "output_type": "stream",
     "text": [
      "=== load data/2021_02_21 US 4クラス/MP背側/*.png ===\n"
     ]
    },
    {
     "name": "stderr",
     "output_type": "stream",
     "text": [
      "100%|██████████| 300/300 [00:03<00:00, 81.60it/s]\n",
      "  2%|▏         | 7/300 [00:00<00:04, 68.90it/s]"
     ]
    },
    {
     "name": "stdout",
     "output_type": "stream",
     "text": [
      "=== load data/2021_02_21 US 4クラス/手関節背側/*.png ===\n"
     ]
    },
    {
     "name": "stderr",
     "output_type": "stream",
     "text": [
      "100%|██████████| 300/300 [00:04<00:00, 67.62it/s]\n"
     ]
    }
   ],
   "source": [
    "parm_mp = load_png('data/2021_02_21 US 4クラス/MP掌側/*.png')\n",
    "dorsal_mp = load_png('data/2021_02_21 US 4クラス/MP背側/*.png')\n",
    "dorsal_wrist = load_png('data/2021_02_21 US 4クラス/手関節背側/*.png')"
   ]
  },
  {
   "cell_type": "code",
   "execution_count": 4,
   "metadata": {
    "pycharm": {
     "name": "#%%\n"
    }
   },
   "outputs": [],
   "source": [
    "def show_sample(images):\n",
    "    num = len(images)\n",
    "    fig = plt.figure(figsize=(num * 4, 4))\n",
    "    count = 1\n",
    "    for title, image in images.items():\n",
    "        axis = fig.add_subplot(1, num, count)\n",
    "        plt.title(title)\n",
    "        axis.imshow(image, cmap='gray', vmin=0, vmax=1)\n",
    "        count += 1\n",
    "    plt.show(block=False)"
   ]
  },
  {
   "cell_type": "code",
   "execution_count": 5,
   "metadata": {
    "pycharm": {
     "name": "#%%\n"
    }
   },
   "outputs": [],
   "source": [
    "show_sample({\n",
    "    'parm MP': parm_mp[0],\n",
    "    'dorsal MP': dorsal_mp[0],\n",
    "    'dorsal wrist': dorsal_wrist[0]\n",
    "})"
   ]
  },
  {
   "cell_type": "code",
   "execution_count": 6,
   "metadata": {
    "pycharm": {
     "name": "#%%\n"
    }
   },
   "outputs": [],
   "source": [
    "umap_data = np.vstack((\n",
    "    np.reshape(parm_mp, (parm_mp.shape[0], -1)),\n",
    "    np.reshape(dorsal_mp, (dorsal_mp.shape[0], -1)),\n",
    "    np.reshape(dorsal_wrist, (dorsal_wrist.shape[0], -1))\n",
    "))\n",
    "umap_label = np.concatenate((\n",
    "    np.full(parm_mp.shape[0], 1),\n",
    "    np.full(dorsal_mp.shape[0], 2),\n",
    "    np.full(dorsal_wrist.shape[0], 3)\n",
    "))"
   ]
  },
  {
   "cell_type": "code",
   "execution_count": 7,
   "metadata": {
    "pycharm": {
     "name": "#%%\n"
    }
   },
   "outputs": [
    {
     "name": "stdout",
     "output_type": "stream",
     "text": [
      "経過時間:169.81771206855774\n"
     ]
    }
   ],
   "source": [
    "t1 = time.time()\n",
    "result3d = umap.UMAP(n_neighbors=5, n_components=3).fit(umap_data)\n",
    "t2 = time.time()\n",
    "print(f\"経過時間:{t2-t1}\")"
   ]
  },
  {
   "cell_type": "code",
   "execution_count": 8,
   "metadata": {
    "pycharm": {
     "name": "#%%\n"
    }
   },
   "outputs": [],
   "source": [
    "x = result3d.embedding_[:, 0]\n",
    "y = result3d.embedding_[:, 1]\n",
    "z = result3d.embedding_[:, 2]\n",
    "\n",
    "fig = plt.figure(figsize=(12, 10))\n",
    "ax = fig.add_subplot(111, projection='3d')\n",
    "sc = ax.scatter(x, y, z, c=umap_label, s=80, marker=\".\", cmap='rainbow')\n",
    "plt.colorbar(sc)\n",
    "plt.show(block=False)"
   ]
  },
  {
   "cell_type": "code",
   "execution_count": null,
   "metadata": {
    "pycharm": {
     "name": "#%%\n"
    }
   },
   "outputs": [],
   "source": []
  }
 ],
 "metadata": {
  "kernelspec": {
   "display_name": "PyCharm (umap_us)",
   "language": "python",
   "name": "pycharm-201f1f19"
  },
  "language_info": {
   "codemirror_mode": {
    "name": "ipython",
    "version": 3
   },
   "file_extension": ".py",
   "mimetype": "text/x-python",
   "name": "python",
   "nbconvert_exporter": "python",
   "pygments_lexer": "ipython3",
   "version": "3.8.8"
  }
 },
 "nbformat": 4,
 "nbformat_minor": 1
}