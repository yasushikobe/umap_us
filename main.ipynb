{
 "cells": [
  {
   "cell_type": "code",
   "execution_count": null,
   "metadata": {},
   "outputs": [],
   "source": [
    "# %matplotlib widget\n",
    "import matplotlib\n",
    "matplotlib.use(\"TkAgg\")\n",
    "\n",
    "import tqdm\n",
    "import glob\n",
    "from PIL import Image\n",
    "import numpy as np\n",
    "import itertools\n",
    "import matplotlib.pyplot as plt\n",
    "# noinspection PyUnresolvedReferences\n",
    "import japanize_matplotlib\n",
    "import time\n",
    "# noinspection PyPackageRequirements\n",
    "import umap\n",
    "import warnings\n",
    "warnings.filterwarnings('ignore')"
   ]
  },
  {
   "cell_type": "code",
   "execution_count": null,
   "metadata": {
    "pycharm": {
     "name": "#%%\n"
    }
   },
   "outputs": [],
   "source": [
    "def load_png(png_files):\n",
    "    \"\"\"\n",
    "    指定されたフォルダ内のグレースケールpngファイルを読み込む\n",
    "    :param png_files: glob文字列\n",
    "    :return: 複数ファイルのpng配列\n",
    "    \"\"\"\n",
    "    files = glob.glob(png_files)\n",
    "    file_sample = Image.open(files[0]).convert('L')\n",
    "    result_array = np.empty((len(files), file_sample.width, file_sample.height))\n",
    "    count = 0\n",
    "    pbar = tqdm.tqdm(files)\n",
    "    pbar.set_description(png_files)\n",
    "    for file in pbar:\n",
    "        result_array[count] = np.array(Image.open(file).convert('L')).astype('float32') / 255\n",
    "        count += 1\n",
    "    return result_array"
   ]
  },
  {
   "cell_type": "code",
   "execution_count": null,
   "metadata": {
    "pycharm": {
     "name": "#%%\n"
    }
   },
   "outputs": [],
   "source": [
    "def load_png_all(paths):\n",
    "    \"\"\"\n",
    "    複数フォルダのpngファイルを読み込む\n",
    "    :param paths: (label文字列, ファイルglob文字列) pairの配列\n",
    "    :return: (png配列, label配列)\n",
    "    \"\"\"\n",
    "    result_labels = np.empty(0)\n",
    "    result_datum = np.empty((0,701,701))\n",
    "    for label, path in paths.items():\n",
    "        result_data = load_png(path)\n",
    "        result_datum = np.concatenate((result_datum, result_data))\n",
    "        result_labels = np.concatenate((result_labels, np.full(result_data.shape[0], label)))\n",
    "    return result_datum, result_labels"
   ]
  },
  {
   "cell_type": "code",
   "execution_count": null,
   "metadata": {
    "pycharm": {
     "name": "#%%\n"
    }
   },
   "outputs": [],
   "source": [
    "def show_sample(images):\n",
    "    \"\"\"\n",
    "    複数のpngデータのプレビュー\n",
    "    :param images: 複数のpng配列\n",
    "    :return: なし\n",
    "    \"\"\"\n",
    "    num = len(images)\n",
    "    fig = plt.figure(figsize=(3 * num, 3))\n",
    "    count = 1\n",
    "    for title, image in images.items():\n",
    "        axis = fig.add_subplot(1, num, count)\n",
    "        plt.title(title)\n",
    "        axis.imshow(image, cmap='gray', vmin=0, vmax=1)\n",
    "        count += 1\n",
    "    plt.show(block=False)"
   ]
  },
  {
   "cell_type": "code",
   "execution_count": null,
   "metadata": {
    "pycharm": {
     "name": "#%%\n"
    }
   },
   "outputs": [],
   "source": [
    "def show_result(umap_result, umap_labels):\n",
    "    \"\"\"\n",
    "    UMAP結果を3D散布図で表示する\n",
    "    :param umap_result: UMAP演算結果\n",
    "    :param umap_labels: UMAP対象ラベル配列\n",
    "    :return: なし\n",
    "    \"\"\"\n",
    "    x = umap_result.embedding_[:, 0]\n",
    "    y = umap_result.embedding_[:, 1]\n",
    "    z = umap_result.embedding_[:, 2]\n",
    "    color_cycle= itertools.cycle([\"red\",\"green\",\"blue\",\"orange\",\"grey\",\"brown\",\"pink\",\"yellow\"])\n",
    "    fig = plt.figure(figsize=(9, 9))\n",
    "    ax = fig.add_subplot(111, projection='3d')\n",
    "    for label in np.unique(umap_labels):\n",
    "        ax.scatter(\n",
    "            x[umap_labels == label],\n",
    "            y[umap_labels == label],\n",
    "            z[umap_labels == label],\n",
    "            c=next(color_cycle), label=label\n",
    "        )\n",
    "    ax.legend(loc='upper left')\n",
    "    plt.show(block=False)"
   ]
  },
  {
   "cell_type": "code",
   "execution_count": null,
   "metadata": {
    "pycharm": {
     "name": "#%%\n"
    }
   },
   "outputs": [],
   "source": [
    "labels = ['MP掌側', 'MP背側', '手関節背側']\n",
    "png_datum, png_labels = load_png_all({label:f'data/2021_02_21 US 4クラス/{label}/*.png' for label in labels})"
   ]
  },
  {
   "cell_type": "code",
   "execution_count": null,
   "metadata": {},
   "outputs": [],
   "source": [
    "show_sample({label:png_datum[png_labels == label][0] for label in labels})"
   ]
  },
  {
   "cell_type": "code",
   "execution_count": null,
   "metadata": {
    "pycharm": {
     "name": "#%%\n"
    },
    "scrolled": false
   },
   "outputs": [],
   "source": [
    "t1 = time.time()\n",
    "result3d = umap.UMAP(n_neighbors=5, n_components=3).fit(np.reshape(png_datum, (png_datum.shape[0], -1)))\n",
    "print(f\"経過時間:{time.time() - t1}\")"
   ]
  },
  {
   "cell_type": "code",
   "execution_count": null,
   "metadata": {
    "pycharm": {
     "name": "#%%\n"
    }
   },
   "outputs": [],
   "source": [
    "show_result(result3d, png_labels)"
   ]
  },
  {
   "cell_type": "code",
   "execution_count": null,
   "metadata": {},
   "outputs": [],
   "source": []
  }
 ],
 "metadata": {
  "kernelspec": {
   "name": "python3",
   "display_name": "Python 3.8.8 64-bit ('umap_us')",
   "metadata": {
    "interpreter": {
     "hash": "ce2b0f64e5af5f0f117bbdde29a5d59622a3186f2de89cd2e9f4ae6caa08e13e"
    }
   }
  },
  "language_info": {
   "codemirror_mode": {
    "name": "ipython",
    "version": 3
   },
   "file_extension": ".py",
   "mimetype": "text/x-python",
   "name": "python",
   "nbconvert_exporter": "python",
   "pygments_lexer": "ipython3",
   "version": "3.8.8-final"
  }
 },
 "nbformat": 4,
 "nbformat_minor": 1
}